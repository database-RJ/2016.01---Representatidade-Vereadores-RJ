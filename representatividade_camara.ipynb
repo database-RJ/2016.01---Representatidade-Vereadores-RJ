{
 "cells": [
  {
   "cell_type": "code",
   "execution_count": 1,
   "metadata": {
    "collapsed": false
   },
   "outputs": [],
   "source": [
    "#inclui bibliotecas necessarias\n",
    "library(data.table)\n",
    "library(ggplot2)"
   ]
  },
  {
   "cell_type": "code",
   "execution_count": null,
   "metadata": {
    "collapsed": true
   },
   "outputs": [],
   "source": []
  },
  {
   "cell_type": "markdown",
   "metadata": {
    "collapsed": true
   },
   "source": [
    "# Pega dados"
   ]
  },
  {
   "cell_type": "code",
   "execution_count": 2,
   "metadata": {
    "collapsed": false
   },
   "outputs": [],
   "source": [
    "camara_16 <- fread('https://docs.google.com/spreadsheets/d/1sYrsTe9bRKYq5JPlmkYvjajwcfEb_GEF2welbJoNHec/pub?gid=1741180972&single=true&output=csv')\n",
    "camara_17 <- fread('https://docs.google.com/spreadsheets/d/1KMAjik1mqwEih2qMZaVbIeS7qkRfoj857_bfpIuKKW8/pub?gid=770186696&single=true&output=csv')\n",
    "cidade <- fread('https://docs.google.com/spreadsheets/d/1_heqrYfTYjN6iygPPKSgkv2CWXpzoSjYV8mbS7FfW_s/pub?gid=323736055&single=true&output=csv')"
   ]
  },
  {
   "cell_type": "markdown",
   "metadata": {},
   "source": [
    "# cria data.frame para compilar as informacoes"
   ]
  },
  {
   "cell_type": "code",
   "execution_count": 3,
   "metadata": {
    "collapsed": false
   },
   "outputs": [],
   "source": [
    "db <- data.frame(local=character(),\n",
    "                                 total=numeric(),\n",
    "                                 homem=numeric(), \n",
    "                                 mulher=numeric(), \n",
    "                                 branco=numeric(),\n",
    "                                 nao_branco=numeric(),\n",
    "                                 stringsAsFactors=FALSE) "
   ]
  },
  {
   "cell_type": "markdown",
   "metadata": {},
   "source": [
    "# inclui os dados da cidade no data.frame\n",
    "## a populacao sem declaracao nao foi incluida"
   ]
  },
  {
   "cell_type": "code",
   "execution_count": 4,
   "metadata": {
    "collapsed": true
   },
   "outputs": [],
   "source": [
    "db[1,1]<-\"cidade\"\n",
    "db[1,2]<-cidade$valor[1]#total\n",
    "db[1,3]<-cidade$valor[2]#homem\n",
    "db[1,4]<-cidade$valor[3]#mulher\n",
    "db[1,5]<-cidade$valor[5]#brancx\n",
    "db[1,6]<-cidade$valor[4]+cidade$valor[6]+cidade$valor[7]+cidade$valor[8]#nao brancx"
   ]
  },
  {
   "cell_type": "markdown",
   "metadata": {},
   "source": [
    "# inclui os dados do mandato 12-16 no dafa.frame"
   ]
  },
  {
   "cell_type": "code",
   "execution_count": 5,
   "metadata": {
    "collapsed": false
   },
   "outputs": [],
   "source": [
    "db[2,1]<-\"mandato_12_16\"\n",
    "db[2,2]<-nrow(camara_16)#total\n",
    "db[2,3]<-table(camara_16$Homem)[2]#homem\n",
    "db[2,4]<-table(camara_16$Homem)[1]#mulher\n",
    "db[2,5]<-table(camara_16$Branco)[2]#brancx\n",
    "db[2,6]<-table(camara_16$Branco)[1]#nao brancx"
   ]
  },
  {
   "cell_type": "markdown",
   "metadata": {},
   "source": [
    "# inclui os dados do mandato 17-20 no dafa.frame"
   ]
  },
  {
   "cell_type": "code",
   "execution_count": 6,
   "metadata": {
    "collapsed": true
   },
   "outputs": [],
   "source": [
    "db[3,1]<-\"mandato_17_20\"\n",
    "db[3,2]<-nrow(camara_17)#total\n",
    "db[3,3]<-table(camara_17$Homem)[2]#homem\n",
    "db[3,4]<-table(camara_17$Homem)[1]#mulher\n",
    "db[3,5]<-table(camara_17$Branco)[2]#brancx\n",
    "db[3,6]<-table(camara_17$Branco)[1]#nao brancx"
   ]
  },
  {
   "cell_type": "code",
   "execution_count": null,
   "metadata": {
    "collapsed": false
   },
   "outputs": [],
   "source": []
  },
  {
   "cell_type": "markdown",
   "metadata": {},
   "source": [
    "# Cria data.frame de representatividade normalizada"
   ]
  },
  {
   "cell_type": "code",
   "execution_count": 7,
   "metadata": {
    "collapsed": true
   },
   "outputs": [],
   "source": [
    "#copia data.frame original\n",
    "db_norm <-db"
   ]
  },
  {
   "cell_type": "code",
   "execution_count": 8,
   "metadata": {
    "collapsed": false
   },
   "outputs": [],
   "source": [
    "#calcula as porcentagens\n",
    "db_norm$total[1] <- (db$total[1]/db$total[1])*100\n",
    "db_norm$total[2] <- (db$total[2]/db$total[2])*100\n",
    "db_norm$total[3] <- (db$total[3]/db$total[3])*100\n",
    "\n",
    "\n",
    "db_norm$homem[1] <- (db$homem[1]/db$total[1])*100\n",
    "db_norm$homem[2] <- (db$homem[2]/db$total[2])*100\n",
    "db_norm$homem[3] <- (db$homem[3]/db$total[3])*100\n",
    "\n",
    "\n",
    "db_norm$mulher[1] <- (db$mulher[1]/db$total[1])*100\n",
    "db_norm$mulher[2] <- (db$mulher[2]/db$total[2])*100\n",
    "db_norm$mulher[3] <- (db$mulher[3]/db$total[3])*100\n",
    "\n",
    "\n",
    "db_norm$branco[1] <- (db$branco[1]/db$total[1])*100\n",
    "db_norm$branco[2] <- (db$branco[2]/db$total[2])*100\n",
    "db_norm$branco[3] <- (db$branco[3]/db$total[3])*100\n",
    "\n",
    "\n",
    "db_norm$nao_branco[1] <- (db$nao_branco[1]/db$total[1])*100\n",
    "db_norm$nao_branco[2] <- (db$nao_branco[2]/db$total[2])*100\n",
    "db_norm$nao_branco[3] <- (db$nao_branco[3]/db$total[3])*100"
   ]
  },
  {
   "cell_type": "code",
   "execution_count": null,
   "metadata": {
    "collapsed": false
   },
   "outputs": [],
   "source": []
  },
  {
   "cell_type": "code",
   "execution_count": 9,
   "metadata": {
    "collapsed": false
   },
   "outputs": [
    {
     "data": {
      "text/html": [
       "<table>\n",
       "<thead><tr><th></th><th scope=col>local</th><th scope=col>total</th><th scope=col>homem</th><th scope=col>mulher</th><th scope=col>branco</th><th scope=col>nao_branco</th></tr></thead>\n",
       "<tbody>\n",
       "\t<tr><th scope=row>1</th><td>cidade </td><td>6320446</td><td>2959817</td><td>3360629</td><td>3234812</td><td>3084549</td></tr>\n",
       "\t<tr><th scope=row>2</th><td>mandato_12_16</td><td>51           </td><td>45           </td><td>6            </td><td>43           </td><td>8            </td></tr>\n",
       "\t<tr><th scope=row>3</th><td>mandato_17_20</td><td>51           </td><td>45           </td><td>6            </td><td>44           </td><td>7            </td></tr>\n",
       "</tbody>\n",
       "</table>\n"
      ],
      "text/latex": [
       "\\begin{tabular}{r|llllll}\n",
       "  & local & total & homem & mulher & branco & nao\\_branco\\\\\n",
       "\\hline\n",
       "\t1 & cidade  & 6320446 & 2959817 & 3360629 & 3234812 & 3084549\\\\\n",
       "\t2 & mandato\\_12\\_16 & 51                & 45                & 6                 & 43                & 8                \\\\\n",
       "\t3 & mandato\\_17\\_20 & 51                & 45                & 6                 & 44                & 7                \\\\\n",
       "\\end{tabular}\n"
      ],
      "text/plain": [
       "          local   total   homem  mulher  branco nao_branco\n",
       "1        cidade 6320446 2959817 3360629 3234812    3084549\n",
       "2 mandato_12_16      51      45       6      43          8\n",
       "3 mandato_17_20      51      45       6      44          7"
      ]
     },
     "metadata": {},
     "output_type": "display_data"
    }
   ],
   "source": [
    "db"
   ]
  },
  {
   "cell_type": "code",
   "execution_count": 10,
   "metadata": {
    "collapsed": false
   },
   "outputs": [
    {
     "data": {
      "text/html": [
       "<table>\n",
       "<thead><tr><th></th><th scope=col>local</th><th scope=col>total</th><th scope=col>homem</th><th scope=col>mulher</th><th scope=col>branco</th><th scope=col>nao_branco</th></tr></thead>\n",
       "<tbody>\n",
       "\t<tr><th scope=row>1</th><td>cidade          </td><td>100             </td><td>46.8292427464771</td><td>53.1707572535229</td><td>51.1801224154118</td><td>48.8027110745033</td></tr>\n",
       "\t<tr><th scope=row>2</th><td>mandato_12_16   </td><td>100             </td><td>88.2352941176471</td><td>11.7647058823529</td><td>84.3137254901961</td><td>15.6862745098039</td></tr>\n",
       "\t<tr><th scope=row>3</th><td>mandato_17_20   </td><td>100             </td><td>88.2352941176471</td><td>11.7647058823529</td><td>86.2745098039216</td><td>13.7254901960784</td></tr>\n",
       "</tbody>\n",
       "</table>\n"
      ],
      "text/latex": [
       "\\begin{tabular}{r|llllll}\n",
       "  & local & total & homem & mulher & branco & nao\\_branco\\\\\n",
       "\\hline\n",
       "\t1 & cidade           & 100              & 46.8292427464771 & 53.1707572535229 & 51.1801224154118 & 48.8027110745033\\\\\n",
       "\t2 & mandato\\_12\\_16 & 100               & 88.2352941176471  & 11.7647058823529  & 84.3137254901961  & 15.6862745098039 \\\\\n",
       "\t3 & mandato\\_17\\_20 & 100               & 88.2352941176471  & 11.7647058823529  & 86.2745098039216  & 13.7254901960784 \\\\\n",
       "\\end{tabular}\n"
      ],
      "text/plain": [
       "          local total    homem   mulher   branco nao_branco\n",
       "1        cidade   100 46.82924 53.17076 51.18012   48.80271\n",
       "2 mandato_12_16   100 88.23529 11.76471 84.31373   15.68627\n",
       "3 mandato_17_20   100 88.23529 11.76471 86.27451   13.72549"
      ]
     },
     "metadata": {},
     "output_type": "display_data"
    }
   ],
   "source": [
    "db_norm"
   ]
  },
  {
   "cell_type": "code",
   "execution_count": null,
   "metadata": {
    "collapsed": true
   },
   "outputs": [],
   "source": []
  },
  {
   "cell_type": "code",
   "execution_count": 14,
   "metadata": {
    "collapsed": false
   },
   "outputs": [],
   "source": [
    "mulheres <- ggplot(db_norm, aes(x=local, y=mulher, fill=local))+geom_bar(stat=\"identity\")+\n",
    "theme_bw(base_size = 12, base_family = \"\")+ labs(list(title = \"% de Mulheres\", x = \"\", y = \"\"))+ guides(fill=FALSE)+ \n",
    "                    scale_x_discrete(breaks=c(\"cidade\", \"mandato_12_16\", \"mandato_17_20\"),\n",
    "                      labels=c(\"Cidade\", \"Câmara 13-16\", \"Câmara 17-20\"))\n"
   ]
  },
  {
   "cell_type": "code",
   "execution_count": 15,
   "metadata": {
    "collapsed": false
   },
   "outputs": [
    {
     "data": {
      "text/html": [
       "<strong>png:</strong> 2"
      ],
      "text/latex": [
       "\\textbf{png:} 2"
      ],
      "text/markdown": [
       "**png:** 2"
      ],
      "text/plain": [
       "png \n",
       "  2 "
      ]
     },
     "metadata": {},
     "output_type": "display_data"
    }
   ],
   "source": [
    "png(filename=\"./plots_raw/mulheres.png\")\n",
    "plot(mulheres)\n",
    "dev.off()"
   ]
  },
  {
   "cell_type": "code",
   "execution_count": null,
   "metadata": {
    "collapsed": true
   },
   "outputs": [],
   "source": []
  },
  {
   "cell_type": "code",
   "execution_count": 16,
   "metadata": {
    "collapsed": false
   },
   "outputs": [],
   "source": [
    "nao_brancos <- ggplot(db_norm, aes(x=local, y=nao_branco, fill=local))+geom_bar(stat=\"identity\")+\n",
    "theme_bw(base_size = 12, base_family = \"\")+ labs(list(title = \"% de Não Brancos\", x = \"\", y = \"\"))+ guides(fill=FALSE)+ \n",
    "                    scale_x_discrete(breaks=c(\"cidade\", \"mandato_12_16\", \"mandato_17_20\"),\n",
    "                      labels=c(\"Cidade\", \"Câmara 13-16\", \"Câmara 17-20\"))"
   ]
  },
  {
   "cell_type": "code",
   "execution_count": 17,
   "metadata": {
    "collapsed": false
   },
   "outputs": [
    {
     "data": {
      "text/html": [
       "<strong>png:</strong> 2"
      ],
      "text/latex": [
       "\\textbf{png:} 2"
      ],
      "text/markdown": [
       "**png:** 2"
      ],
      "text/plain": [
       "png \n",
       "  2 "
      ]
     },
     "metadata": {},
     "output_type": "display_data"
    }
   ],
   "source": [
    "png(filename=\"./plots_raw/nao_brancos.png\")\n",
    "plot(nao_brancos)\n",
    "dev.off()"
   ]
  },
  {
   "cell_type": "code",
   "execution_count": null,
   "metadata": {
    "collapsed": true
   },
   "outputs": [],
   "source": []
  }
 ],
 "metadata": {
  "anaconda-cloud": {},
  "kernelspec": {
   "display_name": "R",
   "language": "R",
   "name": "ir"
  },
  "language_info": {
   "codemirror_mode": "r",
   "file_extension": ".r",
   "mimetype": "text/x-r-source",
   "name": "R",
   "pygments_lexer": "r",
   "version": "3.3.1"
  }
 },
 "nbformat": 4,
 "nbformat_minor": 0
}
